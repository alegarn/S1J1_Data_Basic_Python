{
 "cells": [
  {
   "cell_type": "markdown",
   "id": "d9e13e81",
   "metadata": {},
   "source": [
    "# 2.1. Rapide exerice de chauffe : manipulation de chaînes de caractères ⛓"
   ]
  },
  {
   "cell_type": "markdown",
   "id": "814b21c8",
   "metadata": {},
   "source": [
    "créer et afficher la variable bonjour qui contient une chaîne de caractères hello world !\n"
   ]
  },
  {
   "cell_type": "code",
   "execution_count": 1,
   "id": "0a598893",
   "metadata": {},
   "outputs": [
    {
     "name": "stdout",
     "output_type": "stream",
     "text": [
      "hello world\n"
     ]
    }
   ],
   "source": [
    "print(\"hello world\")"
   ]
  },
  {
   "cell_type": "markdown",
   "id": "277ddcf1",
   "metadata": {},
   "source": [
    "afficher le premier caractère de bonjour"
   ]
  },
  {
   "cell_type": "code",
   "execution_count": 2,
   "id": "0bc39ad4",
   "metadata": {},
   "outputs": [
    {
     "data": {
      "text/plain": [
       "'b'"
      ]
     },
     "execution_count": 2,
     "metadata": {},
     "output_type": "execute_result"
    }
   ],
   "source": [
    "c = \"bonjour\"\n",
    "c[0]"
   ]
  },
  {
   "cell_type": "markdown",
   "id": "d40b4dd4",
   "metadata": {},
   "source": [
    "afficher le dernier caractère de bonjour"
   ]
  },
  {
   "cell_type": "code",
   "execution_count": 3,
   "id": "faada221",
   "metadata": {},
   "outputs": [
    {
     "data": {
      "text/plain": [
       "'r'"
      ]
     },
     "execution_count": 3,
     "metadata": {},
     "output_type": "execute_result"
    }
   ],
   "source": [
    "c[len(c)-1]"
   ]
  },
  {
   "cell_type": "markdown",
   "id": "2a2c6be5",
   "metadata": {},
   "source": [
    "afficher les caractères de bonjour de la position 1 à la position 3"
   ]
  },
  {
   "cell_type": "code",
   "execution_count": 4,
   "id": "c0d00ee8",
   "metadata": {},
   "outputs": [
    {
     "data": {
      "text/plain": [
       "'onj'"
      ]
     },
     "execution_count": 4,
     "metadata": {},
     "output_type": "execute_result"
    }
   ],
   "source": [
    "c[1:4]"
   ]
  },
  {
   "cell_type": "markdown",
   "id": "3de155b0",
   "metadata": {},
   "source": [
    "afficher les caractères de bonjour de la position 3 jusqu'à la fin"
   ]
  },
  {
   "cell_type": "code",
   "execution_count": 5,
   "id": "1518a1a6",
   "metadata": {},
   "outputs": [
    {
     "data": {
      "text/plain": [
       "'jour'"
      ]
     },
     "execution_count": 5,
     "metadata": {},
     "output_type": "execute_result"
    }
   ],
   "source": [
    "c[3:]"
   ]
  },
  {
   "cell_type": "markdown",
   "id": "ece9eab4",
   "metadata": {},
   "source": [
    "vérifier que bonjour commence par hel"
   ]
  },
  {
   "cell_type": "code",
   "execution_count": 6,
   "id": "910d0591",
   "metadata": {},
   "outputs": [
    {
     "data": {
      "text/plain": [
       "True"
      ]
     },
     "execution_count": 6,
     "metadata": {},
     "output_type": "execute_result"
    }
   ],
   "source": [
    "h = \"hello world\"\n",
    "\"hel\" in h"
   ]
  },
  {
   "cell_type": "markdown",
   "id": "557c05d5",
   "metadata": {},
   "source": [
    "# 2.2. Manipulation de fonctions 🔗"
   ]
  },
  {
   "cell_type": "markdown",
   "id": "88bef480",
   "metadata": {},
   "source": [
    "créer une fonction qui prend en paramètre une variable intitulée name et qui affiche Hello suivi du prénom choisi"
   ]
  },
  {
   "cell_type": "code",
   "execution_count": 7,
   "id": "9e0217ab",
   "metadata": {},
   "outputs": [
    {
     "name": "stdout",
     "output_type": "stream",
     "text": [
      "Prénom?a\n",
      "Hello a\n"
     ]
    }
   ],
   "source": [
    "def what_name():\n",
    "    name = input(\"Prénom?\")\n",
    "    print(\"Hello \" + str(name) )\n",
    "\n",
    "\n",
    "what_name()"
   ]
  },
  {
   "cell_type": "markdown",
   "id": "c79d7219",
   "metadata": {},
   "source": [
    "écrire un programme qui demande à l'utilisateur son prénom et lui retourne un message lui disant Hello suivi de son prénom"
   ]
  },
  {
   "cell_type": "markdown",
   "id": "0c8a3261",
   "metadata": {},
   "source": [
    "# 2.3. Manipulation des conditions ↙️"
   ]
  },
  {
   "cell_type": "markdown",
   "id": "76ec4d82",
   "metadata": {},
   "source": [
    "écrire un programme qui demande à l'utilisateur de saisir son âge et affiche vous êtes majeur ! si l'âge est supérieur ou égal à 18 et vous êtes mineur sinon"
   ]
  },
  {
   "cell_type": "code",
   "execution_count": 8,
   "id": "dc081a3c",
   "metadata": {},
   "outputs": [
    {
     "name": "stdout",
     "output_type": "stream",
     "text": [
      "Saisir son âge:18\n",
      "Majeur\n"
     ]
    }
   ],
   "source": [
    "def year():\n",
    "    isEighteen = int(input(\"Saisir son âge:\"))\n",
    "    if isEighteen < 18:\n",
    "        print(\"Mineur\")\n",
    "    else:\n",
    "        print(\"Majeur\")\n",
    "year()"
   ]
  },
  {
   "cell_type": "markdown",
   "id": "a4670c85",
   "metadata": {},
   "source": [
    "écrire un programme qui demande à l'utilisateur de saisir un nombre et affiche a est pair si la valeur de a est paire et a est impair sinon"
   ]
  },
  {
   "cell_type": "code",
   "execution_count": 9,
   "id": "870d7205",
   "metadata": {},
   "outputs": [
    {
     "name": "stdout",
     "output_type": "stream",
     "text": [
      "Est ce que le nombre que vous allez entrer est soit pair soit impair?58\n",
      "Pair\n"
     ]
    }
   ],
   "source": [
    "def odd():\n",
    "    evenOrOdd = int(input(\"Est ce que le nombre que vous allez entrer est soit pair soit impair?\"))\n",
    "    if evenOrOdd%2 == 0:\n",
    "        print(\"Pair\")\n",
    "    else:\n",
    "        print(\"Impair\")\n",
    "odd()"
   ]
  },
  {
   "cell_type": "markdown",
   "id": "9fd61fad",
   "metadata": {},
   "source": [
    "# 2.4. Multiples de 3 et 5 🎲🎲\n",
    "### 2.4.1. L'énoncé\n",
    "\n",
    "Cédric Villani a besoin d'aide pour enfin décrocher le prix Nobel de Mathématiques. Il a besoin de résoudre le problème suivant :\n",
    "\n",
    "Si on liste tous les entiers naturels strictement inférieurs à 11 et qui sont multiples de 3 ou 5, on obtient 3, 5, 6, 9 et 10. La somme de ces nombres est égale à 33.\n",
    "\n",
    "=> Trouve la somme des entiers naturels strictement inférieurs à 1000 et qui sont multiples de 3 ou 5.\n",
    "\n",
    "Pour t'aider sur ce premier exercice, on va décomposer des étapes qui vont nous permettre de le résoudre."
   ]
  },
  {
   "cell_type": "code",
   "execution_count": 10,
   "id": "0f547ac9",
   "metadata": {},
   "outputs": [
    {
     "data": {
      "text/plain": [
       "233168"
      ]
     },
     "execution_count": 10,
     "metadata": {},
     "output_type": "execute_result"
    }
   ],
   "source": [
    "list = []\n",
    "i = 0\n",
    "while i < 1000:\n",
    "    if i%3 == 0 or i%5 == 0:\n",
    "        list.append(i)\n",
    "    i = i + 1\n",
    "sum(list)"
   ]
  },
  {
   "cell_type": "code",
   "execution_count": 11,
   "id": "d3706be6",
   "metadata": {},
   "outputs": [
    {
     "name": "stdout",
     "output_type": "stream",
     "text": [
      "233168\n"
     ]
    }
   ],
   "source": [
    "print(sum(i for i in range(1, 1000) if i%3 == 0 or i%5 == 0))"
   ]
  },
  {
   "cell_type": "markdown",
   "id": "cb94af5c",
   "metadata": {},
   "source": [
    "# 2.5. Cryptofolies 💳💳\n",
    "\n",
    "Après ce petit tour de chauffe, voici un autre exercice sous forme d'initiation à la cybersécurité, avec un algorithme de chiffrement hyper secure (lol) : le chiffrement par décalage. En effet, la NSA a besoin de chiffrer ses e-mails et veut faire appel à toi pour implémenter cette méthode indéchiffrable par un enfant de 5 ans.\n",
    "\n",
    "    En cryptographie, le chiffrement par décalage, aussi connu comme le chiffre de César ou le code de César, est une méthode de chiffrement très simple utilisée par Jules César dans ses correspondances secrètes.\n",
    "    \n",
    "    Le texte chiffré s'obtient en remplaçant chaque lettre du texte clair original par une lettre à distance fixe, toujours du même côté, dans l'ordre de l'alphabet. Si jamais on dépasse la dernière lettre de l'alphabet, on continue à compter depuis le début. Par exemple avec un décalage de 3 vers la droite, A est remplacé par D, B devient E, W devient Z, X devient A, Y devient B, etc.\n",
    "    \n",
    "    Il s'agit d'une permutation circulaire de l'alphabet. La longueur du décalage, 3 dans l'exemple évoqué, constitue la clé du chiffrement qu'il suffit de transmettre au destinataire — s'il sait déjà qu'il s'agit d'un chiffrement de César — pour que celui-ci puisse déchiffrer le message. Dans le cas de l'alphabet latin, le chiffre de César n'a que 26 clés possibles (plus la clé nulle, qui ne modifie pas le texte).\n",
    "\n",
    "Ta mission : créer une fonction caesar_cipher qui prend en paramètres un string et une clé de chiffrement (nombre de lettres à décaler) pour en sortir le string modifié.\n",
    "\n",
    "> caesar_cipher(\"What a string!\", 5)\n",
    "=> \"Bmfy f xywnsl!\"\n"
   ]
  },
  {
   "cell_type": "code",
   "execution_count": 12,
   "id": "845955ba",
   "metadata": {},
   "outputs": [
    {
     "data": {
      "text/plain": [
       "'ckdb'"
      ]
     },
     "execution_count": 12,
     "metadata": {},
     "output_type": "execute_result"
    }
   ],
   "source": [
    "def caesar_cipher(str, nbr):\n",
    "    tuple = [\"a\",\"b\",\"c\",\"d\",\"e\",\"f\",\"g\",\"h\",\"i\",\"j\",\"k\",\"l\",\"m\",\"n\",\"o\",\"p\",\"q\",\"r\",\"s\",\"t\",\"u\",\"v\",\"w\",\"x\",\"y\",\"z\"]\n",
    "    message = \"\"\n",
    "    for i in str:\n",
    "        if (tuple.index(i.lower()) + nbr) > len(tuple):\n",
    "            position = tuple.index(i.lower()) + nbr - len(tuple)\n",
    "            while position > len(tuple):\n",
    "                position = position - len(tuple) \n",
    "            message = message + tuple[position]\n",
    "        else:\n",
    "            message = message + tuple[(tuple.index(i.lower())+nbr)]\n",
    "    return message    \n",
    "    \n",
    "    \n",
    "caesar_cipher(\"sAtr\",10)\n",
    "            "
   ]
  },
  {
   "cell_type": "markdown",
   "id": "414aba3d",
   "metadata": {},
   "source": [
    "# 2.6 Jean-Michel Trader 💸💸\n",
    "\n",
    "Si tu es arrivé à bout des deux premiers exercices, bien joué ! On continue sur notre lancée.\n",
    "\n",
    "Après la cybersécurité à la NSA, Lehman Brothers veut te débaucher pour faire de la finance. Hyper cool. Ils te demandent cette fois de coder un programme qui permet, à partir d'une liste de prix, de connaître le meilleur jour d'achat et le meilleur jour de revente pour faire le maximum de bénéfices.\n",
    "\n",
    "Si l'on considère la liste de prix suivante : [17, 3, 6, 9, 15, 8, 6, 1, 10], la fonction day_trader doit renvoyer qu'il s'agit du deuxième jour à l'achat et du cinquième jour à la revente.\n",
    "\n",
    "> day_trader([17, 3, 6, 9, 15, 8, 6, 1, 10])\n",
    "=> [1,4]  # $15 - $3 == $12\n"
   ]
  },
  {
   "cell_type": "code",
   "execution_count": 13,
   "id": "a1c0bde5",
   "metadata": {},
   "outputs": [
    {
     "data": {
      "text/plain": [
       "[1, 4]"
      ]
     },
     "execution_count": 13,
     "metadata": {},
     "output_type": "execute_result"
    }
   ],
   "source": [
    "def day_trader(values):\n",
    "    best = 0\n",
    "    buySell = []\n",
    "    for index, value in enumerate(values):\n",
    "        for i in values:\n",
    "            benefits = i - value\n",
    "            if benefits > best and values.index(i) > index:\n",
    "                best = benefits\n",
    "                buySell = [index, values.index(i)]\n",
    "    return buySell\n",
    "day_trader([17, 3, 6, 9, 15, 8, 6, 1, 10])"
   ]
  },
  {
   "cell_type": "markdown",
   "id": "72f79c5d",
   "metadata": {},
   "source": [
    "# 2.7 Compter les mots\n",
    "### 2.7.1. La première version\n",
    "\n",
    "Après Lehman Brothers, Google a besoin de toi pour faire de la Data Science. Quelle star ! Écris une fonction intitulée word_counter qui prend en paramètres 2 éléments :\n",
    "\n",
    "    - le corpus, string dans lequel tu devras checker le nombre d'occurrences de différents strings\n",
    "    \n",
    "    - la référence, une liste de mots (strings) qui seront recherchés dans le corpus. \n",
    "    \n",
    "    \n",
    "La fonction devra renvoyer le nombre d'occurrences de chaque mot de la référence dans le corpus sous la forme d'un dictionnaire. \n",
    "\n",
    "Ainsi :\n",
    "\n",
    "> reference = [\"below\", \"down\", \"go\", \"going\", \"horn\", \"how\", \"howdy\", \"it\", \"i\", \"low\", \"own\", \"part\", \"partner\", \"sit\"]\n",
    "> word_counter(\"below\", reference)\n",
    "=> {\"below\" : 1, \"low\" : 1}\n",
    "> word_counter(\"Howdy partner, sit down! How's it going?\", reference)\n",
    "=> {\"down\" : 1, \"how\" : 2, \"howdy\" : 1, \"go\" : 1, \"going\" : 1, \"it\" : 2, \"i\" : 3, \"own\" : 1, \"part\" : 1, \"partner\" : 1, \"sit\" : 1}\n"
   ]
  },
  {
   "cell_type": "code",
   "execution_count": 14,
   "id": "3f075c7a",
   "metadata": {},
   "outputs": [
    {
     "data": {
      "text/plain": [
       "{'below': 1,\n",
       " 'down': 0,\n",
       " 'go': 0,\n",
       " 'going': 0,\n",
       " 'horn': 0,\n",
       " 'how': 0,\n",
       " 'howdy': 0,\n",
       " 'it': 0,\n",
       " 'i': 0,\n",
       " 'low': 1,\n",
       " 'own': 0,\n",
       " 'part': 0,\n",
       " 'partner': 0,\n",
       " 'sit': 0}"
      ]
     },
     "execution_count": 14,
     "metadata": {},
     "output_type": "execute_result"
    }
   ],
   "source": [
    "reference = [\"below\", \"down\", \"go\", \"going\", \"horn\", \"how\", \"howdy\", \"it\", \"i\", \"low\", \"own\", \"part\", \"partner\", \"sit\"]\n",
    "\n",
    "def word_counter(str, reference):\n",
    "    count = []\n",
    "    for r in reference:\n",
    "        count.append(str.count(r))\n",
    "    result = dict(zip(reference, count))\n",
    "    return result\n",
    "\n",
    "word_counter(\"below\", reference)"
   ]
  },
  {
   "cell_type": "markdown",
   "id": "029e454a",
   "metadata": {},
   "source": [
    "### 2.7.2. Compter chez Shakespeare 🤓🤓\n",
    "\n",
    "Google veut savoir combien de fois l'on peut trouver dans l'œuvre intégrale de Shakespeare les mots suivants :\n",
    "\n",
    "reference = [\"the\", \"of\", \"and\", \"to\", \"a\", \"in\", \"for\", \"is\", \"on\", \"that\", \"by\", \"this\", \"with\", \"i\", \"you\", \"it\", \"not\", \"or\", \"be\", \"are\"]\n",
    "\n",
    "Crée un fichier shakespeare.txt qui reprend le corpus intégral de l'oeuvre de l'écrivain anglais. Ton programme appellera le fichier shakespeare.txt (indice : c'est plus facile s'ils sont dans le même dossier) pour s'en servir comme corpus, pour ensuite compter les occurrences du dictionnaire."
   ]
  },
  {
   "cell_type": "code",
   "execution_count": 15,
   "id": "15c9c92f",
   "metadata": {},
   "outputs": [
    {
     "name": "stdout",
     "output_type": "stream",
     "text": [
      "{'the': 51773, 'of': 20548, 'and': 32602, 'to': 29442, 'a': 288618, 'in': 53658, 'for': 13948, 'is': 36726, 'on': 33508, 'that': 11541, 'by': 4969, 'this': 6890, 'with': 9192, 'i': 253370, 'you': 22162, 'it': 29455, 'not': 10937, 'or': 40474, 'be': 20708, 'are': 6555}\n"
     ]
    }
   ],
   "source": [
    "corpus = open('shakespeare.txt', 'r')\n",
    "str = corpus.read()\n",
    "reference = [\"the\", \"of\", \"and\", \"to\", \"a\", \"in\", \"for\", \"is\", \"on\", \"that\", \"by\", \"this\", \"with\", \"i\", \"you\", \"it\", \"not\", \"or\", \"be\", \"are\"]\n",
    "\n",
    "print(word_counter(str.lower(), reference))\n",
    "\n",
    "corpus.close()"
   ]
  },
  {
   "cell_type": "code",
   "execution_count": null,
   "id": "557921f5",
   "metadata": {},
   "outputs": [],
   "source": []
  }
 ],
 "metadata": {
  "kernelspec": {
   "display_name": "Python 3 (ipykernel)",
   "language": "python",
   "name": "python3"
  },
  "language_info": {
   "codemirror_mode": {
    "name": "ipython",
    "version": 3
   },
   "file_extension": ".py",
   "mimetype": "text/x-python",
   "name": "python",
   "nbconvert_exporter": "python",
   "pygments_lexer": "ipython3",
   "version": "3.8.10"
  }
 },
 "nbformat": 4,
 "nbformat_minor": 5
}
